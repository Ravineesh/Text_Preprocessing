{
 "cells": [
  {
   "cell_type": "markdown",
   "metadata": {
    "colab_type": "text",
    "id": "VYTROIVoYFfO"
   },
   "source": [
    "# Text Preprocessing"
   ]
  },
  {
   "cell_type": "code",
   "execution_count": 1,
   "metadata": {
    "colab": {
     "base_uri": "https://localhost:8080/",
     "height": 85
    },
    "colab_type": "code",
    "id": "3_Za1t3sYEI2",
    "outputId": "f411131b-eb0e-499a-d267-0674d311b24e"
   },
   "outputs": [
    {
     "name": "stdout",
     "output_type": "stream",
     "text": [
      "Downloading emoji data ...\n",
      "... OK (Got response in 0.33 seconds)\n",
      "Writing emoji data to C:\\Users\\Ravineesh\\.demoji\\codes.json ...\n",
      "... OK\n"
     ]
    }
   ],
   "source": [
    "#importing necessary libraries for text preprocessing\n",
    "import pandas as pd\n",
    "import string # for removing punctuations marks\n",
    "import re # for removing url\n",
    "import demoji # for removing emoticons\n",
    "import spacy # for tokenization\n",
    "from spacy.lang.en import English\n",
    "from spacy.lang.en.stop_words import STOP_WORDS as eng_stop_words\n",
    "demoji.download_codes() # download emoticons\n",
    "punctuation_marks = list(string.punctuation)"
   ]
  },
  {
   "cell_type": "code",
   "execution_count": 2,
   "metadata": {
    "colab": {
     "base_uri": "https://localhost:8080/",
     "height": 34
    },
    "colab_type": "code",
    "id": "4duduPctv82f",
    "outputId": "9ef68e9c-d207-420b-f51f-1b52929a26ad"
   },
   "outputs": [
    {
     "name": "stdout",
     "output_type": "stream",
     "text": [
      "['!', '\"', '#', '$', '%', '&', \"'\", '(', ')', '*', '+', ',', '-', '.', '/', ':', ';', '<', '=', '>', '?', '@', '[', '\\\\', ']', '^', '_', '`', '{', '|', '}', '~']\n"
     ]
    }
   ],
   "source": [
    "print(punctuation_marks)"
   ]
  },
  {
   "cell_type": "markdown",
   "metadata": {
    "colab_type": "text",
    "id": "NOm-Vtrl_Sjv"
   },
   "source": [
    "### 1. English Language Tokenization"
   ]
  },
  {
   "cell_type": "code",
   "execution_count": 3,
   "metadata": {
    "colab": {},
    "colab_type": "code",
    "id": "Otqnfkja_Yzk"
   },
   "outputs": [],
   "source": [
    "def tokenization_en(input_string,stop_words):\n",
    "  nlp = English()\n",
    "  input_text = nlp(input_string)\n",
    "  \n",
    "  token_list=[]\n",
    "  for token in input_text:\n",
    "    if(token.text not in stop_words):\n",
    "      token_list.append(token.text)\n",
    "\n",
    "  return token_list"
   ]
  },
  {
   "cell_type": "markdown",
   "metadata": {
    "colab_type": "text",
    "id": "JQLjedsy91Ja"
   },
   "source": [
    "### 2. Removing Punctuations marks"
   ]
  },
  {
   "cell_type": "code",
   "execution_count": 4,
   "metadata": {
    "colab": {},
    "colab_type": "code",
    "id": "F5Duj8WC7eWW"
   },
   "outputs": [],
   "source": [
    "def remove_punctuation(input_string):\n",
    "  result=[]\n",
    "  for word in input_string:\n",
    "    if(bool(word.translate(str.maketrans('', '', string.punctuation)))==True):\n",
    "      result.append(word)\n",
    "  \n",
    "  return result\n"
   ]
  },
  {
   "cell_type": "markdown",
   "metadata": {
    "colab_type": "text",
    "id": "Axmw3JfVHW60"
   },
   "source": [
    "### 3. Remove emoticons from text"
   ]
  },
  {
   "cell_type": "code",
   "execution_count": 5,
   "metadata": {
    "colab": {},
    "colab_type": "code",
    "id": "aWrv5JqJbTt3"
   },
   "outputs": [],
   "source": [
    "def remove_emoticons(input_string):\n",
    "  result = []\n",
    "  for word in input_string:\n",
    "    if(len(demoji.findall(word))==0):\n",
    "      result.append(word)\n",
    "  \n",
    "  return result"
   ]
  },
  {
   "cell_type": "markdown",
   "metadata": {
    "colab_type": "text",
    "id": "pxsJc_y7V9Zx"
   },
   "source": [
    "### 4.Remove Numbers from text"
   ]
  },
  {
   "cell_type": "code",
   "execution_count": 6,
   "metadata": {
    "colab": {},
    "colab_type": "code",
    "id": "hF-bvJxOr-xx"
   },
   "outputs": [],
   "source": [
    "def remove_numbers(input_string):\n",
    "  result=[]\n",
    "  for word in input_string:\n",
    "    result.append(re.sub(r'\\d+','',word))\n",
    "  \n",
    "  return result"
   ]
  },
  {
   "cell_type": "markdown",
   "metadata": {
    "colab_type": "text",
    "id": "n7zKf1eGulI-"
   },
   "source": [
    "### 5. Remove Non-ASCII Characters from text"
   ]
  },
  {
   "cell_type": "code",
   "execution_count": 7,
   "metadata": {
    "colab": {},
    "colab_type": "code",
    "id": "rM_0aJJbvsP9"
   },
   "outputs": [],
   "source": [
    "def remove_non_ascii(input_string):\n",
    "  result=[]\n",
    "  for word in input_string:\n",
    "    word = word.encode(\"ascii\",\"ignore\")\n",
    "    result.append(word.decode())\n",
    "  \n",
    "  return result"
   ]
  },
  {
   "cell_type": "markdown",
   "metadata": {
    "colab_type": "text",
    "id": "eVKFbirY7YZm"
   },
   "source": [
    "### 6.Remove URL's"
   ]
  },
  {
   "cell_type": "code",
   "execution_count": 8,
   "metadata": {
    "colab": {},
    "colab_type": "code",
    "id": "giButGXn7Xty"
   },
   "outputs": [],
   "source": [
    "def remove_URL(input_string):\n",
    "  result = []\n",
    "  for token in input_string:\n",
    "    result.append(re.sub(r'http\\S+',\"\",token))\n",
    "\n",
    "  return result"
   ]
  },
  {
   "cell_type": "markdown",
   "metadata": {
    "colab_type": "text",
    "id": "RCl6-rplvJDG"
   },
   "source": [
    "### 7. Remove empty strings from text "
   ]
  },
  {
   "cell_type": "code",
   "execution_count": 9,
   "metadata": {
    "colab": {},
    "colab_type": "code",
    "id": "W1D96_7IvNrv"
   },
   "outputs": [],
   "source": [
    "def remove_empty_strings(input_string):\n",
    "  result=[]\n",
    "\n",
    "  for word in input_string:\n",
    "    word.strip()\n",
    "    if(word!=\"\"):\n",
    "      result.append(word)\n",
    "  \n",
    "  return result"
   ]
  },
  {
   "cell_type": "markdown",
   "metadata": {
    "colab_type": "text",
    "id": "mr0UR2rihvsx"
   },
   "source": [
    "### Preprocessing start"
   ]
  },
  {
   "cell_type": "code",
   "execution_count": 10,
   "metadata": {
    "colab": {},
    "colab_type": "code",
    "id": "gRVsxmG3qUHb"
   },
   "outputs": [],
   "source": [
    "def text_preprocessing(input_string):\n",
    "    result = ''\n",
    "    text = tokenization_en(input_string,eng_stop_words)\n",
    "    text = remove_punctuation(text)\n",
    "    text = remove_emoticons(text)\n",
    "    text = remove_numbers(text)\n",
    "    text = remove_non_ascii(text)\n",
    "    text = remove_URL(text)\n",
    "    text = remove_empty_strings(text)\n",
    "    result = ' '.join([elem for elem in text])\n",
    "\n",
    "    return result\n",
    "   "
   ]
  },
  {
   "cell_type": "code",
   "execution_count": 11,
   "metadata": {
    "colab": {},
    "colab_type": "code",
    "id": "Gwbp_x2c332w"
   },
   "outputs": [
    {
     "name": "stdout",
     "output_type": "stream",
     "text": [
      "Preprocessed Text:- start spreading news yankees win great start going strong innings k solo homerun solo homeruns run homerun rbi close game\n"
     ]
    }
   ],
   "source": [
    "input_string = \"start spreading the news yankees win great start by 🎅🏾 going 5strong innings with 5k’s🔥 🐂 solo homerun 🌋🌋 with 2 solo homeruns and👹 3run homerun… 🤡 🚣🏼 👨🏽‍⚖️ with rbi’s … 🔥🔥 🇲🇽 and 🇳🇮 to close the game🔥🔥!!\"\n",
    "\n",
    "input_string = text_preprocessing(input_string)\n",
    "print(\"Preprocessed Text:-\",input_string)\n",
    "\n"
   ]
  }
 ],
 "metadata": {
  "colab": {
   "collapsed_sections": [],
   "name": "Preprocessing.ipynb",
   "provenance": []
  },
  "kernelspec": {
   "display_name": "Python 3",
   "language": "python",
   "name": "python3"
  },
  "language_info": {
   "codemirror_mode": {
    "name": "ipython",
    "version": 3
   },
   "file_extension": ".py",
   "mimetype": "text/x-python",
   "name": "python",
   "nbconvert_exporter": "python",
   "pygments_lexer": "ipython3",
   "version": "3.7.3"
  }
 },
 "nbformat": 4,
 "nbformat_minor": 1
}
